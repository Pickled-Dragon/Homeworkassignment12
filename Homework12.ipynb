{
 "cells": [
  {
   "attachments": {},
   "cell_type": "markdown",
   "metadata": {},
   "source": [
    "\n",
    "Date: 5/17/23\n",
    "\n",
    "Author: Dylan Compton\n",
    "\n",
    "Program: Homework12.ipynb\n"
   ]
  },
  {
   "attachments": {},
   "cell_type": "markdown",
   "metadata": {},
   "source": [
    "Exercise 17.2"
   ]
  },
  {
   "cell_type": "code",
   "execution_count": 23,
   "metadata": {},
   "outputs": [
    {
     "data": {
      "text/plain": [
       "[('0135404673', 'Intro to Python for CS and DS', 1, '2020'),\n",
       " ('0132151006', 'Internet & WWW How to Program', 5, '2012'),\n",
       " ('0134743350', 'Java How to Program', 11, '2018'),\n",
       " ('0133976890', 'C How to Program', 8, '2016'),\n",
       " ('0133406954', 'Visual Basic 2012 How to Program', 6, '2014'),\n",
       " ('0134601548', 'Visual C# How to Program', 6, '2017'),\n",
       " ('0136151574', 'Visual C++ How to Program', 2, '2008'),\n",
       " ('0134448235', 'C++ How to Program', 10, '2017'),\n",
       " ('0134444302', 'Android How to Program', 3, '2017'),\n",
       " ('0134289366', 'Android 6 for Programmers', 3, '2016')]"
      ]
     },
     "execution_count": 23,
     "metadata": {},
     "output_type": "execute_result"
    }
   ],
   "source": [
    "import sqlite3\n",
    "import pandas as pds\n",
    "\n",
    "connection = sqlite3.connect(\"books.db\")\n",
    "cursor = connection.cursor()\n",
    "cursor.execute(\"SELECT * FROM titles\")\n",
    "cursor.fetchall()\n",
    "\n"
   ]
  },
  {
   "cell_type": "code",
   "execution_count": 25,
   "metadata": {},
   "outputs": [
    {
     "name": "stdout",
     "output_type": "stream",
     "text": [
      "(('isbn', None, None, None, None, None, None), ('title', None, None, None, None, None, None), ('edition', None, None, None, None, None, None), ('copyright', None, None, None, None, None, None))\n"
     ]
    }
   ],
   "source": [
    "print(cursor.description)"
   ]
  },
  {
   "attachments": {},
   "cell_type": "markdown",
   "metadata": {},
   "source": [
    "Exercise 17.1"
   ]
  },
  {
   "cell_type": "code",
   "execution_count": 30,
   "metadata": {},
   "outputs": [
    {
     "data": {
      "text/plain": [
       "[('Deitel',), ('Deitel',), ('Deitel',), ('Quirk',), ('Wald',)]"
      ]
     },
     "execution_count": 30,
     "metadata": {},
     "output_type": "execute_result"
    }
   ],
   "source": [
    "cursor.execute(\"SELECT last FROM authors\")\n",
    "cursor.fetchall()\n"
   ]
  },
  {
   "cell_type": "code",
   "execution_count": 33,
   "metadata": {},
   "outputs": [
    {
     "data": {
      "text/plain": [
       "[('Android 6 for Programmers',),\n",
       " ('Android How to Program',),\n",
       " ('C How to Program',),\n",
       " ('C++ How to Program',),\n",
       " ('Internet & WWW How to Program',),\n",
       " ('Intro to Python for CS and DS',),\n",
       " ('Java How to Program',),\n",
       " ('Visual Basic 2012 How to Program',),\n",
       " ('Visual C# How to Program',),\n",
       " ('Visual C++ How to Program',)]"
      ]
     },
     "execution_count": 33,
     "metadata": {},
     "output_type": "execute_result"
    }
   ],
   "source": [
    "cursor.execute(\"SELECT title FROM titles ORDER BY title ASC\")\n",
    "cursor.fetchall()\n"
   ]
  },
  {
   "cell_type": "code",
   "execution_count": 73,
   "metadata": {},
   "outputs": [
    {
     "data": {
      "text/html": [
       "<div>\n",
       "<style scoped>\n",
       "    .dataframe tbody tr th:only-of-type {\n",
       "        vertical-align: middle;\n",
       "    }\n",
       "\n",
       "    .dataframe tbody tr th {\n",
       "        vertical-align: top;\n",
       "    }\n",
       "\n",
       "    .dataframe thead th {\n",
       "        text-align: right;\n",
       "    }\n",
       "</style>\n",
       "<table border=\"1\" class=\"dataframe\">\n",
       "  <thead>\n",
       "    <tr style=\"text-align: right;\">\n",
       "      <th></th>\n",
       "      <th>title</th>\n",
       "      <th>copyright</th>\n",
       "    </tr>\n",
       "  </thead>\n",
       "  <tbody>\n",
       "    <tr>\n",
       "      <th>0</th>\n",
       "      <td>Android 6 for Programmers</td>\n",
       "      <td>2016</td>\n",
       "    </tr>\n",
       "    <tr>\n",
       "      <th>1</th>\n",
       "      <td>Android 6 for Programmers</td>\n",
       "      <td>2016</td>\n",
       "    </tr>\n",
       "    <tr>\n",
       "      <th>2</th>\n",
       "      <td>Android 6 for Programmers</td>\n",
       "      <td>2016</td>\n",
       "    </tr>\n",
       "    <tr>\n",
       "      <th>3</th>\n",
       "      <td>Android How to Program</td>\n",
       "      <td>2017</td>\n",
       "    </tr>\n",
       "    <tr>\n",
       "      <th>4</th>\n",
       "      <td>Android How to Program</td>\n",
       "      <td>2017</td>\n",
       "    </tr>\n",
       "    <tr>\n",
       "      <th>5</th>\n",
       "      <td>C How to Program</td>\n",
       "      <td>2016</td>\n",
       "    </tr>\n",
       "    <tr>\n",
       "      <th>6</th>\n",
       "      <td>C How to Program</td>\n",
       "      <td>2016</td>\n",
       "    </tr>\n",
       "    <tr>\n",
       "      <th>7</th>\n",
       "      <td>C++ How to Program</td>\n",
       "      <td>2017</td>\n",
       "    </tr>\n",
       "    <tr>\n",
       "      <th>8</th>\n",
       "      <td>C++ How to Program</td>\n",
       "      <td>2017</td>\n",
       "    </tr>\n",
       "    <tr>\n",
       "      <th>9</th>\n",
       "      <td>Internet &amp; WWW How to Program</td>\n",
       "      <td>2012</td>\n",
       "    </tr>\n",
       "    <tr>\n",
       "      <th>10</th>\n",
       "      <td>Internet &amp; WWW How to Program</td>\n",
       "      <td>2012</td>\n",
       "    </tr>\n",
       "    <tr>\n",
       "      <th>11</th>\n",
       "      <td>Internet &amp; WWW How to Program</td>\n",
       "      <td>2012</td>\n",
       "    </tr>\n",
       "    <tr>\n",
       "      <th>12</th>\n",
       "      <td>Intro to Python for CS and DS</td>\n",
       "      <td>2020</td>\n",
       "    </tr>\n",
       "    <tr>\n",
       "      <th>13</th>\n",
       "      <td>Intro to Python for CS and DS</td>\n",
       "      <td>2020</td>\n",
       "    </tr>\n",
       "    <tr>\n",
       "      <th>14</th>\n",
       "      <td>Java How to Program</td>\n",
       "      <td>2018</td>\n",
       "    </tr>\n",
       "    <tr>\n",
       "      <th>15</th>\n",
       "      <td>Java How to Program</td>\n",
       "      <td>2018</td>\n",
       "    </tr>\n",
       "    <tr>\n",
       "      <th>16</th>\n",
       "      <td>Visual Basic 2012 How to Program</td>\n",
       "      <td>2014</td>\n",
       "    </tr>\n",
       "    <tr>\n",
       "      <th>17</th>\n",
       "      <td>Visual Basic 2012 How to Program</td>\n",
       "      <td>2014</td>\n",
       "    </tr>\n",
       "    <tr>\n",
       "      <th>18</th>\n",
       "      <td>Visual Basic 2012 How to Program</td>\n",
       "      <td>2014</td>\n",
       "    </tr>\n",
       "    <tr>\n",
       "      <th>19</th>\n",
       "      <td>Visual C# How to Program</td>\n",
       "      <td>2017</td>\n",
       "    </tr>\n",
       "    <tr>\n",
       "      <th>20</th>\n",
       "      <td>Visual C# How to Program</td>\n",
       "      <td>2017</td>\n",
       "    </tr>\n",
       "    <tr>\n",
       "      <th>21</th>\n",
       "      <td>Visual C++ How to Program</td>\n",
       "      <td>2008</td>\n",
       "    </tr>\n",
       "    <tr>\n",
       "      <th>22</th>\n",
       "      <td>Visual C++ How to Program</td>\n",
       "      <td>2008</td>\n",
       "    </tr>\n",
       "    <tr>\n",
       "      <th>23</th>\n",
       "      <td>Visual C++ How to Program</td>\n",
       "      <td>2008</td>\n",
       "    </tr>\n",
       "  </tbody>\n",
       "</table>\n",
       "</div>"
      ],
      "text/plain": [
       "                               title copyright\n",
       "0          Android 6 for Programmers      2016\n",
       "1          Android 6 for Programmers      2016\n",
       "2          Android 6 for Programmers      2016\n",
       "3             Android How to Program      2017\n",
       "4             Android How to Program      2017\n",
       "5                   C How to Program      2016\n",
       "6                   C How to Program      2016\n",
       "7                 C++ How to Program      2017\n",
       "8                 C++ How to Program      2017\n",
       "9      Internet & WWW How to Program      2012\n",
       "10     Internet & WWW How to Program      2012\n",
       "11     Internet & WWW How to Program      2012\n",
       "12     Intro to Python for CS and DS      2020\n",
       "13     Intro to Python for CS and DS      2020\n",
       "14               Java How to Program      2018\n",
       "15               Java How to Program      2018\n",
       "16  Visual Basic 2012 How to Program      2014\n",
       "17  Visual Basic 2012 How to Program      2014\n",
       "18  Visual Basic 2012 How to Program      2014\n",
       "19          Visual C# How to Program      2017\n",
       "20          Visual C# How to Program      2017\n",
       "21         Visual C++ How to Program      2008\n",
       "22         Visual C++ How to Program      2008\n",
       "23         Visual C++ How to Program      2008"
      ]
     },
     "execution_count": 73,
     "metadata": {},
     "output_type": "execute_result"
    }
   ],
   "source": [
    "pds.read_sql(\"SELECT title, copyright FROM titles INNER JOIN author_ISBN ON titles.isbn = author_ISBN.isbn ORDER BY title ASC\",connection)\n",
    "\n"
   ]
  },
  {
   "cell_type": "code",
   "execution_count": 80,
   "metadata": {},
   "outputs": [
    {
     "data": {
      "text/plain": [
       "[(1, 'Paul', 'Deitel'),\n",
       " (2, 'Harvey', 'Deitel'),\n",
       " (3, 'Abbey', 'Deitel'),\n",
       " (4, 'Dan', 'Quirk'),\n",
       " (5, 'Alexander', 'Wald'),\n",
       " (6, 'David', 'Bowie'),\n",
       " (7, 'David', 'Bowie'),\n",
       " (8, 'David', 'Bowie')]"
      ]
     },
     "execution_count": 80,
     "metadata": {},
     "output_type": "execute_result"
    }
   ],
   "source": [
    "cursor.execute(\"INSERT INTO authors (first, last) VALUES ('David', 'Bowie')\")\n"
   ]
  },
  {
   "cell_type": "code",
   "execution_count": 81,
   "metadata": {},
   "outputs": [
    {
     "data": {
      "text/plain": [
       "<sqlite3.Cursor at 0x2bd28565940>"
      ]
     },
     "execution_count": 81,
     "metadata": {},
     "output_type": "execute_result"
    }
   ],
   "source": [
    "cursor.execute(\"INSERT INTO author_ISBN (id, isbn) VALUES ('6', '123456789')\")\n",
    "cursor.execute(\"INSERT INTO titles (isbn, title, edition, copyright) VALUES ('123456789', 'How to Rock', '1', '1999')\")"
   ]
  }
 ],
 "metadata": {
  "kernelspec": {
   "display_name": "Python 3",
   "language": "python",
   "name": "python3"
  },
  "language_info": {
   "codemirror_mode": {
    "name": "ipython",
    "version": 3
   },
   "file_extension": ".py",
   "mimetype": "text/x-python",
   "name": "python",
   "nbconvert_exporter": "python",
   "pygments_lexer": "ipython3",
   "version": "3.10.2"
  },
  "orig_nbformat": 4
 },
 "nbformat": 4,
 "nbformat_minor": 2
}
